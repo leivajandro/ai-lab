{
    "cells": [
        {
            "cell_type": "markdown",
            "metadata": {},
            "source": [
                "# Tool Executor\n",
                "\n",
                "Control tool execution order with concurrent and sequential executors using Strands agents"
            ]
        },
        {
            "cell_type": "markdown",
            "metadata": {},
            "source": [
                "## Imports"
            ]
        },
        {
            "cell_type": "code",
            "execution_count": null,
            "metadata": {},
            "outputs": [],
            "source": [
                "from strands import Agent\n",
                "from strands.tools.executors import SequentialToolExecutor\n",
                "from strands.models.openai import OpenAIModel\n",
                "from strands_tools import calculator, current_time"
            ]
        },
        {
            "cell_type": "markdown",
            "metadata": {},
            "source": [
                "## Setup Local LLM Client"
            ]
        },
        {
            "cell_type": "code",
            "execution_count": null,
            "metadata": {},
            "outputs": [],
            "source": [
                "model = OpenAIModel(\n",
                "    client_args={\n",
                "        \"api_key\": \"none\",\n",
                "        \"base_url\": \"http://localhost:1234/v1\",\n",
                "    },\n",
                "    model_id=\"local-model\",\n",
                "    params={\n",
                "        \"temperature\": 0.1,\n",
                "        \"top_p\": 0.9,\n",
                "        \"frequency_penalty\": 0.0,\n",
                "    }\n",
                ")"
            ]
        },
        {
            "cell_type": "markdown",
            "metadata": {},
            "source": [
                "## Concurrent Execution (Default)"
            ]
        },
        {
            "cell_type": "code",
            "execution_count": null,
            "metadata": {},
            "outputs": [],
            "source": [
                "agent = Agent(\n",
                "    model=model,\n",
                "    tools=[calculator, current_time],\n",
                "    system_prompt=\"You are a helpful assistant.\"\n",
                ")\n",
                "\n",
                "agent(\"Calculate 2 + 2 and tell me the current time\")"
            ]
        },
        {
            "cell_type": "markdown",
            "metadata": {},
            "source": [
                "## Sequential Execution"
            ]
        },
        {
            "cell_type": "code",
            "execution_count": null,
            "metadata": {},
            "outputs": [],
            "source": [
                "agent = Agent(\n",
                "    model=model,\n",
                "    tool_executor=SequentialToolExecutor(),\n",
                "    tools=[calculator, current_time],\n",
                "    system_prompt=\"You are a helpful assistant.\"\n",
                ")\n",
                "\n",
                "agent(\"Calculate 5 * 3 and then tell me the current time\")"
            ]
        }
    ],
    "metadata": {
        "kernelspec": {
            "display_name": "ai-lab",
            "language": "python",
            "name": "python3"
        },
        "language_info": {
            "codemirror_mode": {
                "name": "ipython",
                "version": 3
            },
            "file_extension": ".py",
            "mimetype": "text/x-python",
            "name": "python",
            "nbconvert_exporter": "python",
            "pygments_lexer": "ipython3",
            "version": "3.13.7"
        }
    },
    "nbformat": 4,
    "nbformat_minor": 4
}