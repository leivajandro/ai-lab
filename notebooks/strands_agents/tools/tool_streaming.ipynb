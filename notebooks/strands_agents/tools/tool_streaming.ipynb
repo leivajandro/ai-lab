{
    "cells": [
        {
            "cell_type": "markdown",
            "metadata": {},
            "source": [
                "# Tool Streaming\n",
                "\n",
                "Real-time progress updates from streaming tools with async generators"
            ]
        },
        {
            "cell_type": "markdown",
            "metadata": {},
            "source": [
                "## Imports"
            ]
        },
        {
            "cell_type": "code",
            "execution_count": null,
            "metadata": {},
            "outputs": [],
            "source": [
                "from datetime import datetime\n",
                "import asyncio\n",
                "from strands import Agent, tool\n",
                "from strands.models.openai import OpenAIModel"
            ]
        },
        {
            "cell_type": "markdown",
            "metadata": {},
            "source": [
                "## Setup Local LLM Client"
            ]
        },
        {
            "cell_type": "code",
            "execution_count": null,
            "metadata": {},
            "outputs": [],
            "source": [
                "model = OpenAIModel(\n",
                "    client_args={\n",
                "        \"api_key\": \"none\",\n",
                "        \"base_url\": \"http://localhost:1234/v1\",\n",
                "    },\n",
                "    model_id=\"local-model\",\n",
                "    params={\n",
                "        \"temperature\": 0.1,\n",
                "        \"top_p\": 0.95,\n",
                "        \"frequency_penalty\": 0.0,\n",
                "        \"presence_penalty\": 0.0,\n",
                "    }\n",
                ")"
            ]
        },
        {
            "cell_type": "markdown",
            "metadata": {},
            "source": [
                "## Streaming Tool"
            ]
        },
        {
            "cell_type": "code",
            "execution_count": null,
            "metadata": {},
            "outputs": [],
            "source": [
                "@tool\n",
                "async def process_dataset(records: int) -> str:\n",
                "    \"\"\"Process records with progress updates.\"\"\"\n",
                "    start = datetime.now()\n",
                "\n",
                "    for i in range(records):\n",
                "        await asyncio.sleep(0.1)\n",
                "        if i % 10 == 0:\n",
                "            elapsed = datetime.now() - start\n",
                "            yield f\"Processed {i}/{records} records in {elapsed.total_seconds():.1f}s\"\n",
                "\n",
                "    yield f\"Completed {records} records in {(datetime.now() - start).total_seconds():.1f}s\""
            ]
        },
        {
            "cell_type": "markdown",
            "metadata": {},
            "source": [
                "## Create Agent"
            ]
        },
        {
            "cell_type": "code",
            "execution_count": null,
            "metadata": {},
            "outputs": [],
            "source": [
                "agent = Agent(\n",
                "    model=model,\n",
                "    tools=[process_dataset],\n",
                "    system_prompt=\"You are a helpful assistant.\"\n",
                ")"
            ]
        },
        {
            "cell_type": "markdown",
            "metadata": {},
            "source": [
                "## Tool Streaming Function"
            ]
        },
        {
            "cell_type": "code",
            "execution_count": null,
            "metadata": {},
            "outputs": [],
            "source": [
                "async def tool_stream_example():\n",
                "    async for event in agent.stream_async(\"Process 50 records\"):\n",
                "        if tool_stream := event.get(\"tool_stream_event\"):\n",
                "            if update := tool_stream.get(\"data\"):\n",
                "                print(f\"Progress: {update}\")\n",
                "        elif \"data\" in event:\n",
                "            print(event[\"data\"], end=\"\", flush=True)"
            ]
        },
        {
            "cell_type": "markdown",
            "metadata": {},
            "source": [
                "## Run Agent"
            ]
        },
        {
            "cell_type": "code",
            "execution_count": null,
            "metadata": {},
            "outputs": [],
            "source": [
                "await tool_stream_example()"
            ]
        }
    ],
    "metadata": {
        "kernelspec": {
            "display_name": "ai-lab",
            "language": "python",
            "name": "python3"
        },
        "language_info": {
            "codemirror_mode": {
                "name": "ipython",
                "version": 3
            },
            "file_extension": ".py",
            "mimetype": "text/x-python",
            "name": "python",
            "nbconvert_exporter": "python",
            "pygments_lexer": "ipython3",
            "version": "3.13.7"
        }
    },
    "nbformat": 4,
    "nbformat_minor": 4
}