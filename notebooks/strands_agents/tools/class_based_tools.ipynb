{
 "cells": [
  {
   "cell_type": "markdown",
   "metadata": {},
   "source": [
    "# Class-based Tools\n",
    "\n",
    "Tools organized in classes with shared state and resources"
   ]
  },
  {
   "cell_type": "markdown",
   "metadata": {},
   "source": [
    "## Imports"
   ]
  },
  {
   "cell_type": "code",
   "execution_count": null,
   "metadata": {},
   "outputs": [],
   "source": [
    "from strands import Agent, tool\n",
    "from strands.models.openai import OpenAIModel"
   ]
  },
  {
   "cell_type": "markdown",
   "metadata": {},
   "source": [
    "## Setup Local LLM Client"
   ]
  },
  {
   "cell_type": "code",
   "execution_count": null,
   "metadata": {},
   "outputs": [],
   "source": [
    "model = OpenAIModel(\n",
    "    client_args={\n",
    "        \"api_key\": \"none\",\n",
    "        \"base_url\": \"http://localhost:1234/v1\",\n",
    "    },\n",
    "    model_id=\"local-model\",\n",
    "    params={\n",
    "        \"temperature\": 0.1,\n",
    "        \"top_p\": 0.9,\n",
    "        \"frequency_penalty\": 0.0,\n",
    "    }\n",
    ")"
   ]
  },
  {
   "cell_type": "markdown",
   "metadata": {},
   "source": [
    "## Database Tools Class"
   ]
  },
  {
   "cell_type": "code",
   "execution_count": null,
   "metadata": {},
   "outputs": [],
   "source": [
    "class DatabaseTools:\n",
    "    def __init__(self, connection_string):\n",
    "        self.connection = self._establish_connection(connection_string)\n",
    "\n",
    "    def _establish_connection(self, connection_string):\n",
    "        return {\"connected\": True, \"db\": \"example_db\"}\n",
    "\n",
    "    @tool\n",
    "    def query_database(self, sql: str) -> dict:\n",
    "        \"\"\"Run a SQL query against the database.\n",
    "\n",
    "        Args:\n",
    "            sql: The SQL query to execute\n",
    "        \"\"\"\n",
    "        return {\"results\": f\"Query results for: {sql}\", \"connection\": self.connection}\n",
    "\n",
    "    @tool\n",
    "    def insert_record(self, table: str, data: dict) -> str:\n",
    "        \"\"\"Insert a new record into the database.\n",
    "\n",
    "        Args:\n",
    "            table: The table name\n",
    "            data: The data to insert as a dictionary\n",
    "        \"\"\"\n",
    "        return f\"Inserted data into {table}: {data}\""
   ]
  },
  {
   "cell_type": "markdown",
   "metadata": {},
   "source": [
    "## Create Agent"
   ]
  },
  {
   "cell_type": "code",
   "execution_count": null,
   "metadata": {},
   "outputs": [],
   "source": [
    "db_tools = DatabaseTools(\"example_connection_string\")\n",
    "\n",
    "agent = Agent(\n",
    "    model=model,\n",
    "    tools=[db_tools.query_database, db_tools.insert_record],\n",
    "    system_prompt=\"You are a helpful assistant.\"\n",
    ")"
   ]
  },
  {
   "cell_type": "markdown",
   "metadata": {},
   "source": [
    "## Run Agent"
   ]
  },
  {
   "cell_type": "code",
   "execution_count": null,
   "metadata": {},
   "outputs": [],
   "source": [
    "agent(\"Query the database for all users\")"
   ]
  }
 ],
 "metadata": {
  "kernelspec": {
   "display_name": ".venv",
   "language": "python",
   "name": "python3"
  },
  "language_info": {
   "codemirror_mode": {
    "name": "ipython",
    "version": 3
   },
   "file_extension": ".py",
   "mimetype": "text/x-python",
   "name": "python",
   "nbconvert_exporter": "python",
   "pygments_lexer": "ipython3",
   "version": "3.13.7"
  }
 },
 "nbformat": 4,
 "nbformat_minor": 4
}
