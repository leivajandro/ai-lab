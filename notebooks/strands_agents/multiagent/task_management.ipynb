{
 "cells": [
  {
   "cell_type": "markdown",
   "metadata": {},
   "source": [
    "# Task Management and Dependency Resolution\n",
    "\n",
    "Multi-agent task orchestration with dependency resolution and sequential execution."
   ]
  },
  {
   "cell_type": "code",
   "execution_count": null,
   "metadata": {},
   "outputs": [],
   "source": [
    "import sys\n",
    "sys.path.append('../../../src')\n",
    "\n",
    "from strands import Agent\n",
    "from strands.models.ollama import OllamaModel"
   ]
  },
  {
   "cell_type": "code",
   "execution_count": null,
   "metadata": {},
   "outputs": [],
   "source": [
    "model = OllamaModel(\n",
    "    host=\"http://localhost:11434\",\n",
    "    model_id=\"granite4:tiny-h\",\n",
    "    temperature=0.1,\n",
    "    top_p=0.9\n",
    ")"
   ]
  },
  {
   "cell_type": "code",
   "execution_count": null,
   "metadata": {},
   "outputs": [],
   "source": [
    "financial_agent = Agent(\n",
    "    model=model,\n",
    "    system_prompt=\"You extract and structure financial data from reports.\"\n",
    ")\n",
    "\n",
    "analyst_agent = Agent(\n",
    "    model=model,\n",
    "    system_prompt=\"You identify trends in financial time series.\"\n",
    ")\n",
    "\n",
    "report_agent = Agent(\n",
    "    model=model,\n",
    "    system_prompt=\"You create clear financial analysis reports.\"\n",
    ")"
   ]
  },
  {
   "cell_type": "code",
   "execution_count": null,
   "metadata": {},
   "outputs": [],
   "source": [
    "tasks = {\n",
    "    \"data_extraction\": {\n",
    "        \"description\": \"Extract key financial data from the quarterly report\",\n",
    "        \"status\": \"pending\",\n",
    "        \"agent\": financial_agent,\n",
    "        \"dependencies\": []\n",
    "    },\n",
    "    \"trend_analysis\": {\n",
    "        \"description\": \"Analyze trends in the extracted data\",\n",
    "        \"status\": \"pending\",\n",
    "        \"agent\": analyst_agent,\n",
    "        \"dependencies\": [\"data_extraction\"]\n",
    "    },\n",
    "    \"report_generation\": {\n",
    "        \"description\": \"Generate comprehensive analysis report\",\n",
    "        \"status\": \"pending\",\n",
    "        \"agent\": report_agent,\n",
    "        \"dependencies\": [\"trend_analysis\"]\n",
    "    }\n",
    "}"
   ]
  },
  {
   "cell_type": "code",
   "execution_count": null,
   "metadata": {},
   "outputs": [],
   "source": [
    "def execute_workflow(tasks, input_data):\n",
    "    results = {}\n",
    "    completed = set()\n",
    "    \n",
    "    while len(completed) < len(tasks):\n",
    "        for task_id, task in tasks.items():\n",
    "            if task_id in completed or task[\"status\"] != \"pending\":\n",
    "                continue\n",
    "                \n",
    "            if all(dep in completed for dep in task[\"dependencies\"]):\n",
    "                print(f\"Executing task: {task_id}\")\n",
    "                \n",
    "                context = f\"Task: {task['description']}\\n\"\n",
    "                if task[\"dependencies\"]:\n",
    "                    context += \"Previous results:\\n\"\n",
    "                    for dep in task[\"dependencies\"]:\n",
    "                        context += f\"- {dep}: {results.get(dep, 'No result')}\\n\"\n",
    "                \n",
    "                context += f\"\\nInput data: {input_data}\"\n",
    "                \n",
    "                result = task[\"agent\"](context)\n",
    "                results[task_id] = str(result)\n",
    "                task[\"status\"] = \"completed\"\n",
    "                completed.add(task_id)\n",
    "                \n",
    "                print(f\"Completed: {task_id}\\n\")\n",
    "    \n",
    "    return results"
   ]
  },
  {
   "cell_type": "code",
   "execution_count": null,
   "metadata": {},
   "outputs": [],
   "source": [
    "input_data = \"\"\"\n",
    "Q3 2024 Financial Report:\n",
    "Revenue: $2.5M (+15% YoY)\n",
    "Expenses: $1.8M (+8% YoY)\n",
    "Net Income: $700K (+35% YoY)\n",
    "Cash Flow: $900K (+20% YoY)\n",
    "\"\"\"\n",
    "\n",
    "results = execute_workflow(tasks, input_data)"
   ]
  },
  {
   "cell_type": "code",
   "execution_count": null,
   "metadata": {},
   "outputs": [],
   "source": [
    "for task_id, result in results.items():\n",
    "    print(f\"=== {task_id.upper()} ===\")\n",
    "    print(result)\n",
    "    print()"
   ]
  }
 ],
 "metadata": {
  "kernelspec": {
   "display_name": "ai-lab",
   "language": "python",
   "name": "python3"
  },
  "language_info": {
   "codemirror_mode": {
    "name": "ipython",
    "version": 3
   },
   "file_extension": ".py",
   "mimetype": "text/x-python",
   "name": "python",
   "nbconvert_exporter": "python",
   "pygments_lexer": "ipython3",
   "version": "3.13.7"
  }
 },
 "nbformat": 4,
 "nbformat_minor": 4
}
