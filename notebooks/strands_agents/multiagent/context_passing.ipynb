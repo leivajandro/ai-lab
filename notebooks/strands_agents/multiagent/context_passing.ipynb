{
 "cells": [
  {
   "cell_type": "markdown",
   "metadata": {},
   "source": [
    "# Context Passing Between Tasks\n",
    "\n",
    "Advanced context management for multi-agent workflows with structured task result passing."
   ]
  },
  {
   "cell_type": "code",
   "execution_count": null,
   "metadata": {},
   "outputs": [],
   "source": [
    "import sys\n",
    "sys.path.append('../../../src')\n",
    "\n",
    "from strands import Agent\n",
    "from strands.models.ollama import OllamaModel"
   ]
  },
  {
   "cell_type": "code",
   "execution_count": null,
   "metadata": {},
   "outputs": [],
   "source": [
    "model = OllamaModel(\n",
    "    host=\"http://localhost:11434\",\n",
    "    model_id=\"granite4:tiny-h\",\n",
    "    temperature=0.1,\n",
    "    top_p=0.9\n",
    ")"
   ]
  },
  {
   "cell_type": "code",
   "execution_count": null,
   "metadata": {},
   "outputs": [],
   "source": [
    "research_agent = Agent(\n",
    "    model=model,\n",
    "    system_prompt=\"You research and gather information on given topics.\"\n",
    ")\n",
    "\n",
    "analysis_agent = Agent(\n",
    "    model=model,\n",
    "    system_prompt=\"You analyze data and identify key insights.\"\n",
    ")\n",
    "\n",
    "summary_agent = Agent(\n",
    "    model=model,\n",
    "    system_prompt=\"You create concise summaries from detailed analysis.\"\n",
    ")\n",
    "\n",
    "recommendation_agent = Agent(\n",
    "    model=model,\n",
    "    system_prompt=\"You provide actionable recommendations based on analysis.\"\n",
    ")"
   ]
  },
  {
   "cell_type": "code",
   "execution_count": null,
   "metadata": {},
   "outputs": [],
   "source": [
    "tasks = {\n",
    "    \"market_research\": {\n",
    "        \"description\": \"Research current market trends in renewable energy sector\",\n",
    "        \"agent\": research_agent,\n",
    "        \"dependencies\": []\n",
    "    },\n",
    "    \"competitor_analysis\": {\n",
    "        \"description\": \"Analyze top 3 competitors in renewable energy market\",\n",
    "        \"agent\": analysis_agent,\n",
    "        \"dependencies\": []\n",
    "    },\n",
    "    \"market_analysis\": {\n",
    "        \"description\": \"Analyze market opportunities and threats\",\n",
    "        \"agent\": analysis_agent,\n",
    "        \"dependencies\": [\"market_research\", \"competitor_analysis\"]\n",
    "    },\n",
    "    \"executive_summary\": {\n",
    "        \"description\": \"Create executive summary of market analysis\",\n",
    "        \"agent\": summary_agent,\n",
    "        \"dependencies\": [\"market_analysis\"]\n",
    "    },\n",
    "    \"strategic_recommendations\": {\n",
    "        \"description\": \"Provide strategic recommendations for market entry\",\n",
    "        \"agent\": recommendation_agent,\n",
    "        \"dependencies\": [\"market_analysis\", \"executive_summary\"]\n",
    "    }\n",
    "}"
   ]
  },
  {
   "cell_type": "code",
   "execution_count": null,
   "metadata": {},
   "outputs": [],
   "source": [
    "def build_task_context(task_id, tasks, results):\n",
    "    \"\"\"Build context from dependent tasks\"\"\"\n",
    "    context = []\n",
    "    for dep_id in tasks[task_id].get(\"dependencies\", []):\n",
    "        if dep_id in results:\n",
    "            context.append(f\"Results from {dep_id}: {results[dep_id]}\")\n",
    "\n",
    "    prompt = tasks[task_id][\"description\"]\n",
    "    if context:\n",
    "        prompt = \"Previous task results:\\n\" + \"\\n\\n\".join(context) + \"\\n\\nTask:\\n\" + prompt\n",
    "\n",
    "    return prompt"
   ]
  },
  {
   "cell_type": "code",
   "execution_count": null,
   "metadata": {},
   "outputs": [],
   "source": [
    "def execute_workflow_with_context(tasks, base_context=\"\"):\n",
    "    results = {}\n",
    "    completed = set()\n",
    "    \n",
    "    while len(completed) < len(tasks):\n",
    "        for task_id, task in tasks.items():\n",
    "            if task_id in completed:\n",
    "                continue\n",
    "                \n",
    "            if all(dep in completed for dep in task.get(\"dependencies\", [])):\n",
    "                print(f\"Executing task: {task_id}\")\n",
    "                \n",
    "                context = build_task_context(task_id, tasks, results)\n",
    "                if base_context:\n",
    "                    context = f\"Base context: {base_context}\\n\\n{context}\"\n",
    "                \n",
    "                result = task[\"agent\"](context)\n",
    "                results[task_id] = str(result)\n",
    "                completed.add(task_id)\n",
    "                \n",
    "                print(f\"Completed: {task_id}\\n\")\n",
    "    \n",
    "    return results"
   ]
  },
  {
   "cell_type": "code",
   "execution_count": null,
   "metadata": {},
   "outputs": [],
   "source": [
    "base_context = \"\"\"\n",
    "Company: GreenTech Solutions\n",
    "Industry: Renewable Energy Technology\n",
    "Goal: Market entry strategy for solar panel manufacturing\n",
    "Budget: $50M initial investment\n",
    "Timeline: 18 months to market entry\n",
    "\"\"\"\n",
    "\n",
    "results = execute_workflow_with_context(tasks, base_context)"
   ]
  },
  {
   "cell_type": "code",
   "execution_count": null,
   "metadata": {},
   "outputs": [],
   "source": [
    "for task_id, result in results.items():\n",
    "    print(f\"=== {task_id.upper().replace('_', ' ')} ===\")\n",
    "    print(result)\n",
    "    print(\"-\" * 80)\n",
    "    print()"
   ]
  },
  {
   "cell_type": "code",
   "execution_count": null,
   "metadata": {},
   "outputs": [],
   "source": [
    "print(\"WORKFLOW EXECUTION ORDER:\")\n",
    "execution_order = []\n",
    "completed = set()\n",
    "\n",
    "while len(completed) < len(tasks):\n",
    "    for task_id, task in tasks.items():\n",
    "        if task_id in completed:\n",
    "            continue\n",
    "        if all(dep in completed for dep in task.get(\"dependencies\", [])):\n",
    "            execution_order.append(task_id)\n",
    "            completed.add(task_id)\n",
    "            deps = task.get(\"dependencies\", [])\n",
    "            dep_str = f\" (depends on: {', '.join(deps)})\" if deps else \" (no dependencies)\"\n",
    "            print(f\"{len(execution_order)}. {task_id}{dep_str}\")"
   ]
  }
 ],
 "metadata": {
  "kernelspec": {
   "display_name": "ai-lab",
   "language": "python",
   "name": "python3"
  },
  "language_info": {
   "codemirror_mode": {
    "name": "ipython",
    "version": 3
   },
   "file_extension": ".py",
   "mimetype": "text/x-python",
   "name": "python",
   "nbconvert_exporter": "python",
   "pygments_lexer": "ipython3",
   "version": "3.13.7"
  }
 },
 "nbformat": 4,
 "nbformat_minor": 4
}
