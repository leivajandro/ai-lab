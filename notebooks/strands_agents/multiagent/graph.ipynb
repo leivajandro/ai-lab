{
 "cells": [
  {
   "cell_type": "markdown",
   "metadata": {},
   "source": [
    "# Graph-based Multi-Agent System with Strands Agents\n",
    "\n",
    "This notebook demonstrates a graph-based workflow for AWS data anonymization using specialized agents connected in a directed graph.\n",
    "\n",
    "## Pattern Overview\n",
    "- **Requirements Agent**: Analyzes compliance requirements and data sensitivity\n",
    "- **Architecture Agent**: Designs AWS infrastructure and data flow\n",
    "- **Implementation Agent**: Develops anonymization scripts and ETL processes\n",
    "- **Testing Agent**: Creates validation and compliance tests\n",
    "- **Deployment Agent**: Handles AWS deployment and monitoring\n",
    "\n",
    "Each agent processes input from the previous stage and passes refined output to the next agent in the graph."
   ]
  },
  {
   "cell_type": "code",
   "execution_count": null,
   "metadata": {},
   "outputs": [],
   "source": [
    "from strands import Agent\n",
    "from strands.models.openai import OpenAIModel\n",
    "from typing import Dict, Any"
   ]
  },
  {
   "cell_type": "markdown",
   "metadata": {},
   "source": [
    "## Model Configuration"
   ]
  },
  {
   "cell_type": "code",
   "execution_count": null,
   "metadata": {},
   "outputs": [],
   "source": [
    "model = OpenAIModel(\n",
    "    client_args={\n",
    "        \"api_key\": \"none\",\n",
    "        \"base_url\": \"http://localhost:1234/v1\",\n",
    "    },\n",
    "    model_id=\"local-model\",\n",
    "    params={\n",
    "        \"temperature\": 0.1,\n",
    "        \"top_p\": 0.9,\n",
    "        \"frequency_penalty\": 0.0\n",
    "    }\n",
    ")"
   ]
  },
  {
   "cell_type": "markdown",
   "metadata": {},
   "source": [
    "## Specialized Agents"
   ]
  },
  {
   "cell_type": "code",
   "execution_count": null,
   "metadata": {},
   "outputs": [],
   "source": [
    "requirements_agent = Agent(\n",
    "    model=model,\n",
    "    system_prompt=\"You are a Data Privacy and Compliance Analyst. Analyze data anonymization requirements, identify sensitive data types, and define GDPR, HIPAA, and PCI-DSS compliance requirements. Focus on data classification and regulatory constraints.\"\n",
    ")\n",
    "\n",
    "architecture_agent = Agent(\n",
    "    model=model,\n",
    "    system_prompt=\"You are an AWS Solutions Architect specializing in data security. Design secure AWS architectures using RDS, Aurora, Lambda, KMS, VPC, and other services. Create detailed infrastructure specifications for data anonymization systems.\"\n",
    ")\n",
    "\n",
    "implementation_agent = Agent(\n",
    "    model=model,\n",
    "    system_prompt=\"You are a Senior Data Engineer specializing in AWS and database anonymization. Write Python/SQL code for data anonymization, ETL processes, Lambda functions, and database operations. Focus on performance and security best practices.\"\n",
    ")\n",
    "\n",
    "testing_agent = Agent(\n",
    "    model=model,\n",
    "    system_prompt=\"You are a QA Engineer for data systems. Create comprehensive test plans for data anonymization, compliance validation, data integrity checks, and performance testing. Ensure anonymization effectiveness and data utility preservation.\"\n",
    ")\n",
    "\n",
    "deployment_agent = Agent(\n",
    "    model=model,\n",
    "    system_prompt=\"You are a DevOps Engineer for AWS data systems. Create CloudFormation templates, deployment pipelines, monitoring dashboards, and operational procedures for data anonymization systems. Focus on automation and observability.\"\n",
    ")"
   ]
  },
  {
   "cell_type": "markdown",
   "metadata": {},
   "source": [
    "## Graph Workflow Orchestrator"
   ]
  },
  {
   "cell_type": "code",
   "execution_count": null,
   "metadata": {},
   "outputs": [],
   "source": [
    "class DataAnonymizationGraph:\n",
    "    def __init__(self):\n",
    "        self.agents = {\n",
    "            \"requirements\": requirements_agent,\n",
    "            \"architecture\": architecture_agent,\n",
    "            \"implementation\": implementation_agent,\n",
    "            \"testing\": testing_agent,\n",
    "            \"deployment\": deployment_agent\n",
    "        }\n",
    "        self.workflow = [\n",
    "            \"requirements\",\n",
    "            \"architecture\", \n",
    "            \"implementation\",\n",
    "            \"testing\",\n",
    "            \"deployment\"\n",
    "        ]\n",
    "    \n",
    "    def execute(self, initial_request: str) -> Dict[str, Any]:\n",
    "        results = {}\n",
    "        current_input = initial_request\n",
    "        \n",
    "        for stage in self.workflow:\n",
    "            print(f\"\\n=== {stage.upper()} STAGE ===\")\n",
    "            agent = self.agents[stage]\n",
    "            \n",
    "            if stage == \"requirements\":\n",
    "                prompt = current_input\n",
    "            else:\n",
    "                prompt = f\"Based on the previous stage output:\\n{current_input}\\n\\nProceed with {stage} phase.\"\n",
    "            \n",
    "            response = agent(prompt)\n",
    "            results[stage] = str(response)\n",
    "            current_input = str(response)\n",
    "            print(response)\n",
    "        \n",
    "        return results\n",
    "\n",
    "graph = DataAnonymizationGraph()"
   ]
  },
  {
   "cell_type": "markdown",
   "metadata": {},
   "source": [
    "## AWS Data Anonymization Use Case"
   ]
  },
  {
   "cell_type": "code",
   "execution_count": null,
   "metadata": {},
   "outputs": [],
   "source": [
    "request = \"Design and implement a comprehensive data anonymization system for AWS RDS and Aurora databases containing sensitive customer information (PII, financial data, health records). The system must comply with GDPR, HIPAA, and PCI-DSS regulations while maintaining data utility for analytics and testing environments.\"\n",
    "\n",
    "print(\"=== AWS RDS/AURORA DATA ANONYMIZATION SYSTEM ===\")\n",
    "results = graph.execute(request)\n",
    "print(\"\\n=== WORKFLOW COMPLETED ===\")"
   ]
  }
 ],
 "metadata": {
  "kernelspec": {
   "display_name": "ai-lab",
   "language": "python",
   "name": "python3"
  },
  "language_info": {
   "codemirror_mode": {
    "name": "ipython",
    "version": 3
   },
   "file_extension": ".py",
   "mimetype": "text/x-python",
   "name": "python",
   "nbconvert_exporter": "python",
   "pygments_lexer": "ipython3",
   "version": "3.13.7"
  }
 },
 "nbformat": 4,
 "nbformat_minor": 4
}
