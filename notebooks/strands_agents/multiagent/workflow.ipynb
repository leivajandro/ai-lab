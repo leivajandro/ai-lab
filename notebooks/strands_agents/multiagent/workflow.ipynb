{
 "cells": [
  {
   "cell_type": "markdown",
   "metadata": {},
   "source": [
    "# Agent Workflow\n",
    "\n",
    "Multi-agent workflow orchestration with task dependencies and parallel execution."
   ]
  },
  {
   "cell_type": "code",
   "execution_count": null,
   "metadata": {},
   "outputs": [],
   "source": [
    "import sys\n",
    "import os\n",
    "sys.path.append('../../../src')\n",
    "\n",
    "from strands import Agent\n",
    "from strands_tools import workflow\n",
    "from strands.models.ollama import OllamaModel"
   ]
  },
  {
   "cell_type": "code",
   "execution_count": null,
   "metadata": {},
   "outputs": [],
   "source": [
    "model = OllamaModel(\n",
    "    host=\"http://localhost:11434\",\n",
    "    model_id=\"gemma3:4b\",\n",
    "    temperature=0.1,\n",
    "    top_p=0.9\n",
    ")"
   ]
  },
  {
   "cell_type": "code",
   "execution_count": null,
   "metadata": {},
   "outputs": [],
   "source": [
    "agent = Agent(model=model, tools=[workflow])"
   ]
  },
  {
   "cell_type": "code",
   "execution_count": null,
   "metadata": {},
   "outputs": [],
   "source": [
    "agent.tool.workflow(\n",
    "    model=model,\n",
    "    action=\"create\",\n",
    "    workflow_id=\"data_analysis\",\n",
    "    tasks=[\n",
    "        {\n",
    "            \"task_id\": \"data_extraction\",\n",
    "            \"description\": \"Extract key financial data from the quarterly report\",\n",
    "            \"model_provider\": \"ollama\",\n",
    "            \"model_settings\": {\n",
    "                \"model_id\": \"gemma3:4b\", \"host\": \"http://localhost:11434\"\n",
    "            },\n",
    "            \"system_prompt\": \"You extract and structure financial data from reports.\",\n",
    "            \"priority\": 5\n",
    "        },\n",
    "        {\n",
    "            \"task_id\": \"trend_analysis\",\n",
    "            \"description\": \"Analyze trends in the data compared to previous quarters\",\n",
    "            \"model_provider\": \"ollama\",\n",
    "            \"model_settings\": {\n",
    "                \"model_id\": \"gemma3:4b\", \"host\": \"http://localhost:11434\"\n",
    "            },\n",
    "            \"dependencies\": [\"data_extraction\"],\n",
    "            \"system_prompt\": \"You identify trends in financial time series.\",\n",
    "            \"priority\": 3\n",
    "        },\n",
    "        {\n",
    "            \"task_id\": \"report_generation\",\n",
    "            \"description\": \"Generate a comprehensive analysis report\",\n",
    "            \"model_provider\": \"ollama\",\n",
    "            \"model_settings\": {\n",
    "                \"model_id\": \"gemma3:4b\", \"host\": \"http://localhost:11434\"\n",
    "            },\n",
    "            \"dependencies\": [\"trend_analysis\"],\n",
    "            \"system_prompt\": \"You create clear financial analysis reports.\",\n",
    "            \"priority\": 2\n",
    "        }\n",
    "    ]\n",
    ")"
   ]
  },
  {
   "cell_type": "code",
   "execution_count": null,
   "metadata": {},
   "outputs": [],
   "source": [
    "agent.tool.workflow(action=\"start\", workflow_id=\"data_analysis\")"
   ]
  },
  {
   "cell_type": "code",
   "execution_count": null,
   "metadata": {},
   "outputs": [],
   "source": [
    "status = agent.tool.workflow(action=\"status\", workflow_id=\"data_analysis\")\n",
    "print(status)"
   ]
  }
 ],
 "metadata": {
  "kernelspec": {
   "display_name": "ai-lab",
   "language": "python",
   "name": "python3"
  },
  "language_info": {
   "codemirror_mode": {
    "name": "ipython",
    "version": 3
   },
   "file_extension": ".py",
   "mimetype": "text/x-python",
   "name": "python",
   "nbconvert_exporter": "python",
   "pygments_lexer": "ipython3",
   "version": "3.13.7"
  }
 },
 "nbformat": 4,
 "nbformat_minor": 4
}
