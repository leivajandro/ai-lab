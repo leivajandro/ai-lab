{
 "cells": [
  {
   "cell_type": "markdown",
   "metadata": {},
   "source": [
    "# Multi-Agent Swarm with Strands Agents\n",
    "\n",
    "This notebook demonstrates the Swarm pattern where multiple specialized agents collaborate by passing tasks between each other dynamically.\n",
    "\n",
    "## Swarm vs Agents as Tools\n",
    "- **Swarm**: Agents hand off tasks to each other dynamically\n",
    "- **Agents as Tools**: Central orchestrator routes to specialists\n",
    "- **Collaboration**: Peer-to-peer vs hierarchical delegation"
   ]
  },
  {
   "cell_type": "code",
   "execution_count": null,
   "metadata": {},
   "outputs": [],
   "source": [
    "from strands import Agent\n",
    "from strands.multiagent import Swarm\n",
    "from strands.models.openai import OpenAIModel"
   ]
  },
  {
   "cell_type": "markdown",
   "metadata": {},
   "source": [
    "## Model Configuration"
   ]
  },
  {
   "cell_type": "code",
   "execution_count": null,
   "metadata": {},
   "outputs": [],
   "source": [
    "model = OpenAIModel(\n",
    "    client_args={\n",
    "        \"api_key\": \"none\",\n",
    "        \"base_url\": \"http://localhost:1234/v1\",\n",
    "    },\n",
    "    model_id=\"local-model\",\n",
    "    params={\n",
    "        \"temperature\": 0.1,\n",
    "        \"top_p\": 0.9,\n",
    "        \"frequency_penalty\": 0.0\n",
    "    }\n",
    ")"
   ]
  },
  {
   "cell_type": "markdown",
   "metadata": {},
   "source": [
    "## Specialized Agents"
   ]
  },
  {
   "cell_type": "code",
   "execution_count": null,
   "metadata": {},
   "outputs": [],
   "source": [
    "researcher = Agent(\n",
    "    model=model,\n",
    "    name=\"researcher\",\n",
    "    system_prompt=\"You are a research specialist. Gather requirements and analyze problems before handing off to appropriate specialists.\"\n",
    ")\n",
    "\n",
    "coder = Agent(\n",
    "    model=model,\n",
    "    name=\"coder\",\n",
    "    system_prompt=\"You are a coding specialist. Implement solutions based on requirements and hand off to reviewer when done.\"\n",
    ")\n",
    "\n",
    "reviewer = Agent(\n",
    "    model=model,\n",
    "    name=\"reviewer\",\n",
    "    system_prompt=\"You are a code review specialist. Review implementations for quality, security, and best practices.\"\n",
    ")\n",
    "\n",
    "architect = Agent(\n",
    "    model=model,\n",
    "    name=\"architect\",\n",
    "    system_prompt=\"You are a system architecture specialist. Design system structure and hand off implementation details to coders.\"\n",
    ")"
   ]
  },
  {
   "cell_type": "markdown",
   "metadata": {},
   "source": [
    "## Create Swarm"
   ]
  },
  {
   "cell_type": "code",
   "execution_count": null,
   "metadata": {},
   "outputs": [],
   "source": [
    "swarm = Swarm(\n",
    "    [coder, researcher, reviewer, architect],\n",
    "    entry_point=researcher,\n",
    "    max_handoffs=20,\n",
    "    max_iterations=20,\n",
    "    execution_timeout=900.0,\n",
    "    node_timeout=300.0,\n",
    "    repetitive_handoff_detection_window=8,\n",
    "    repetitive_handoff_min_unique_agents=3\n",
    ")"
   ]
  },
  {
   "cell_type": "markdown",
   "metadata": {},
   "source": [
    "## Test Cases"
   ]
  },
  {
   "cell_type": "code",
   "execution_count": null,
   "metadata": {},
   "outputs": [],
   "source": [
    "print(\"=== SIMPLE API TASK ===\")\n",
    "result = swarm(\"Design and implement a simple REST API for a todo app\")\n",
    "print(f\"Status: {result.status}\")\n",
    "print(f\"Node history: {[node.node_id for node in result.node_history]}\")\n",
    "print()"
   ]
  },
  {
   "cell_type": "code",
   "execution_count": null,
   "metadata": {},
   "outputs": [],
   "source": [
    "print(\"=== MATH LIBRARY TASK ===\")\n",
    "result = swarm(\"Create a Python library for statistical calculations\")\n",
    "print(f\"Status: {result.status}\")\n",
    "print(f\"Node history: {[node.node_id for node in result.node_history]}\")\n",
    "print()"
   ]
  },
  {
   "cell_type": "code",
   "execution_count": null,
   "metadata": {},
   "outputs": [],
   "source": [
    "print(\"=== DATABASE DESIGN TASK ===\")\n",
    "result = swarm(\"Design a database schema for an e-commerce platform\")\n",
    "print(f\"Status: {result.status}\")\n",
    "print(f\"Node history: {[node.node_id for node in result.node_history]}\")"
   ]
  }
 ],
 "metadata": {
  "kernelspec": {
   "display_name": "ai-lab",
   "language": "python",
   "name": "python3"
  },
  "language_info": {
   "codemirror_mode": {
    "name": "ipython",
    "version": 3
   },
   "file_extension": ".py",
   "mimetype": "text/x-python",
   "name": "python",
   "nbconvert_exporter": "python",
   "pygments_lexer": "ipython3",
   "version": "3.13.7"
  }
 },
 "nbformat": 4,
 "nbformat_minor": 4
}
