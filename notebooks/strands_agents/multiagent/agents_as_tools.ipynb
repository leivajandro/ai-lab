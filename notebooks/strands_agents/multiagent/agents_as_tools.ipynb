{
 "cells": [
  {
   "cell_type": "markdown",
   "metadata": {},
   "source": [
    "# Agents as Tools with Strands Agents\n",
    "\n",
    "This notebook demonstrates the \"Agents as Tools\" pattern where specialized AI agents are wrapped as callable functions that can be used by an orchestrator agent.\n",
    "\n",
    "## Pattern Overview\n",
    "- **Orchestrator Agent**: Routes queries to appropriate specialists\n",
    "- **Specialized Agents**: Domain experts wrapped as tools\n",
    "- **Hierarchical Delegation**: Manager coordinates specialists"
   ]
  },
  {
   "cell_type": "code",
   "execution_count": null,
   "metadata": {},
   "outputs": [],
   "source": [
    "from strands import Agent, tool\n",
    "from strands.models.openai import OpenAIModel"
   ]
  },
  {
   "cell_type": "markdown",
   "metadata": {},
   "source": [
    "## Model Configuration"
   ]
  },
  {
   "cell_type": "code",
   "execution_count": null,
   "metadata": {},
   "outputs": [],
   "source": [
    "model = OpenAIModel(\n",
    "    client_args={\n",
    "        \"api_key\": \"none\",\n",
    "        \"base_url\": \"http://localhost:1234/v1\",\n",
    "    },\n",
    "    model_id=\"local-model\",\n",
    "    params={\n",
    "        \"temperature\": 0.1,\n",
    "        \"top_p\": 0.9,\n",
    "        \"frequency_penalty\": 0.0\n",
    "    }\n",
    ")"
   ]
  },
  {
   "cell_type": "markdown",
   "metadata": {},
   "source": [
    "## Specialized Agent Tools"
   ]
  },
  {
   "cell_type": "code",
   "execution_count": null,
   "metadata": {},
   "outputs": [],
   "source": [
    "@tool\n",
    "def math_specialist(query: str) -> str:\n",
    "    \"\"\"Solve mathematical problems and calculations.\n",
    "    \n",
    "    Args:\n",
    "        query: Mathematical problem or calculation request\n",
    "        \n",
    "    Returns:\n",
    "        Detailed mathematical solution with steps\n",
    "    \"\"\"\n",
    "    try:\n",
    "        agent = Agent(\n",
    "            model=model,\n",
    "            system_prompt=\"You are a mathematics expert. Solve problems step-by-step with clear explanations.\"\n",
    "        )\n",
    "        response = agent(query)\n",
    "        return str(response)\n",
    "    except Exception as e:\n",
    "        return f\"Math error: {str(e)}\"\n",
    "\n",
    "@tool\n",
    "def writing_specialist(query: str) -> str:\n",
    "    \"\"\"Handle creative writing and text composition tasks.\n",
    "    \n",
    "    Args:\n",
    "        query: Writing request (stories, emails, articles, etc.)\n",
    "        \n",
    "    Returns:\n",
    "        Well-crafted written content\n",
    "    \"\"\"\n",
    "    try:\n",
    "        agent = Agent(\n",
    "            model=model,\n",
    "            system_prompt=\"You are a professional writer. Create engaging, well-structured content.\"\n",
    "        )\n",
    "        response = agent(query)\n",
    "        return str(response)\n",
    "    except Exception as e:\n",
    "        return f\"Writing error: {str(e)}\"\n",
    "\n",
    "@tool\n",
    "def code_specialist(query: str) -> str:\n",
    "    \"\"\"Generate and explain code solutions.\n",
    "    \n",
    "    Args:\n",
    "        query: Programming problem or code request\n",
    "        \n",
    "    Returns:\n",
    "        Code solution with explanations\n",
    "    \"\"\"\n",
    "    try:\n",
    "        agent = Agent(\n",
    "            model=model,\n",
    "            system_prompt=\"You are a programming expert. Write clean, efficient code with clear explanations.\"\n",
    "        )\n",
    "        response = agent(query)\n",
    "        return str(response)\n",
    "    except Exception as e:\n",
    "        return f\"Code error: {str(e)}\""
   ]
  },
  {
   "cell_type": "markdown",
   "metadata": {},
   "source": [
    "## Orchestrator Agent"
   ]
  },
  {
   "cell_type": "code",
   "execution_count": null,
   "metadata": {},
   "outputs": [],
   "source": [
    "orchestrator = Agent(\n",
    "    model=model,\n",
    "    system_prompt=\"\"\"You coordinate specialized agents:\n",
    "- Math problems → math_specialist\n",
    "- Writing tasks → writing_specialist  \n",
    "- Programming → code_specialist\n",
    "- Simple questions → answer directly\n",
    "\n",
    "Choose the most appropriate specialist for each query.\"\"\",\n",
    "    tools=[math_specialist, writing_specialist, code_specialist]\n",
    ")"
   ]
  },
  {
   "cell_type": "markdown",
   "metadata": {},
   "source": [
    "## Test Cases"
   ]
  },
  {
   "cell_type": "code",
   "execution_count": null,
   "metadata": {},
   "outputs": [],
   "source": [
    "print(\"=== MATH QUERY ===\")\n",
    "response = orchestrator(\"What's the derivative of x^3 + 2x^2 - 5x + 1?\")\n",
    "print(response)\n",
    "print()"
   ]
  },
  {
   "cell_type": "code",
   "execution_count": null,
   "metadata": {},
   "outputs": [],
   "source": [
    "print(\"=== WRITING QUERY ===\")\n",
    "response = orchestrator(\"Write a short story about a robot learning to paint\")\n",
    "print(response)\n",
    "print()"
   ]
  },
  {
   "cell_type": "code",
   "execution_count": null,
   "metadata": {},
   "outputs": [],
   "source": [
    "print(\"=== CODE QUERY ===\")\n",
    "response = orchestrator(\"Create a Python function to find the factorial of a number\")\n",
    "print(response)\n",
    "print()"
   ]
  },
  {
   "cell_type": "code",
   "execution_count": null,
   "metadata": {},
   "outputs": [],
   "source": [
    "print(\"=== COMPLEX QUERY ===\")\n",
    "response = orchestrator(\"I need to calculate compound interest for a story I'm writing about a programmer who invests money\")\n",
    "print(response)"
   ]
  }
 ],
 "metadata": {
  "kernelspec": {
   "display_name": "ai-lab",
   "language": "python",
   "name": "python3"
  },
  "language_info": {
   "codemirror_mode": {
    "name": "ipython",
    "version": 3
   },
   "file_extension": ".py",
   "mimetype": "text/x-python",
   "name": "python",
   "nbconvert_exporter": "python",
   "pygments_lexer": "ipython3",
   "version": "3.13.7"
  }
 },
 "nbformat": 4,
 "nbformat_minor": 4
}
