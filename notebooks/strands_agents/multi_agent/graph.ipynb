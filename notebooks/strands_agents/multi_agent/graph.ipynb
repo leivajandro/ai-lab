{
 "cells": [
  {
   "cell_type": "markdown",
   "metadata": {},
   "source": [
    "# Graph-based Multi-Agent System with Strands Agents\n",
    "\n",
    "This notebook demonstrates a graph-based workflow for AI agent development using specialized agents connected in a directed graph.\n",
    "\n",
    "## Pattern Overview\n",
    "- **Requirements Agent**: Analyzes and defines agent requirements\n",
    "- **Architecture Agent**: Designs system architecture and components\n",
    "- **Implementation Agent**: Develops the actual agent code\n",
    "- **Testing Agent**: Creates and executes comprehensive tests\n",
    "- **Deployment Agent**: Handles deployment and configuration\n",
    "\n",
    "Each agent processes input from the previous stage and passes refined output to the next agent in the graph."
   ]
  },
  {
   "cell_type": "code",
   "execution_count": null,
   "metadata": {},
   "outputs": [],
   "source": [
    "from strands import Agent\n",
    "from strands.models.openai import OpenAIModel\n",
    "from typing import Dict, Any"
   ]
  },
  {
   "cell_type": "markdown",
   "metadata": {},
   "source": [
    "## Model Configuration"
   ]
  },
  {
   "cell_type": "code",
   "execution_count": null,
   "metadata": {},
   "outputs": [],
   "source": [
    "model = OpenAIModel(\n",
    "    client_args={\n",
    "        \"api_key\": \"none\",\n",
    "        \"base_url\": \"http://localhost:1234/v1\",\n",
    "    },\n",
    "    model_id=\"local-model\",\n",
    "    params={\n",
    "        \"temperature\": 0.1,\n",
    "        \"top_p\": 0.9,\n",
    "        \"frequency_penalty\": 0.0\n",
    "    }\n",
    ")"
   ]
  },
  {
   "cell_type": "markdown",
   "metadata": {},
   "source": [
    "## Specialized Agents"
   ]
  },
  {
   "cell_type": "code",
   "execution_count": null,
   "metadata": {},
   "outputs": [],
   "source": [
    "requirements_agent = Agent(\n",
    "    model=model,\n",
    "    system_prompt=\"You are a Requirements Analyst for AI agent development. Analyze user requests and create detailed functional and technical requirements. Focus on capabilities, constraints, and success criteria.\"\n",
    ")\n",
    "\n",
    "architecture_agent = Agent(\n",
    "    model=model,\n",
    "    system_prompt=\"You are a System Architect for AI agents. Design system architecture, component interactions, data flow, and technology stack based on requirements. Create detailed architectural specifications.\"\n",
    ")\n",
    "\n",
    "implementation_agent = Agent(\n",
    "    model=model,\n",
    "    system_prompt=\"You are a Senior Developer specializing in AI agent implementation. Write clean, efficient code based on architectural specifications. Focus on best practices and maintainability.\"\n",
    ")\n",
    "\n",
    "testing_agent = Agent(\n",
    "    model=model,\n",
    "    system_prompt=\"You are a QA Engineer for AI systems. Create comprehensive test plans, unit tests, integration tests, and validation scenarios. Ensure quality and reliability.\"\n",
    ")\n",
    "\n",
    "deployment_agent = Agent(\n",
    "    model=model,\n",
    "    system_prompt=\"You are a DevOps Engineer for AI agent deployment. Create deployment strategies, configuration files, monitoring setup, and operational procedures.\"\n",
    ")"
   ]
  },
  {
   "cell_type": "markdown",
   "metadata": {},
   "source": [
    "## Graph Workflow Orchestrator"
   ]
  },
  {
   "cell_type": "code",
   "execution_count": null,
   "metadata": {},
   "outputs": [],
   "source": [
    "class AgentGraph:\n",
    "    def __init__(self):\n",
    "        self.agents = {\n",
    "            \"requirements\": requirements_agent,\n",
    "            \"architecture\": architecture_agent,\n",
    "            \"implementation\": implementation_agent,\n",
    "            \"testing\": testing_agent,\n",
    "            \"deployment\": deployment_agent\n",
    "        }\n",
    "        self.workflow = [\n",
    "            \"requirements\",\n",
    "            \"architecture\", \n",
    "            \"implementation\",\n",
    "            \"testing\",\n",
    "            \"deployment\"\n",
    "        ]\n",
    "    \n",
    "    def execute(self, initial_request: str) -> Dict[str, Any]:\n",
    "        results = {}\n",
    "        current_input = initial_request\n",
    "        \n",
    "        for stage in self.workflow:\n",
    "            print(f\"\\n=== {stage.upper()} STAGE ===\")\n",
    "            agent = self.agents[stage]\n",
    "            \n",
    "            if stage == \"requirements\":\n",
    "                prompt = current_input\n",
    "            else:\n",
    "                prompt = f\"Based on the previous stage output:\\n{current_input}\\n\\nProceed with {stage} phase.\"\n",
    "            \n",
    "            response = agent(prompt)\n",
    "            results[stage] = response\n",
    "            current_input = response\n",
    "            print(response)\n",
    "        \n",
    "        return results\n",
    "\n",
    "graph = AgentGraph()"
   ]
  },
  {
   "cell_type": "markdown",
   "metadata": {},
   "source": [
    "## Test Cases"
   ]
  },
  {
   "cell_type": "code",
   "execution_count": null,
   "metadata": {},
   "outputs": [],
   "source": [
    "print(\"=== CHATBOT AGENT DEVELOPMENT ===\")\n",
    "results = graph.execute(\"Create an AI agent that can answer questions about Python programming and provide code examples\")\n",
    "print(\"\\n=== WORKFLOW COMPLETED ===\")"
   ]
  },
  {
   "cell_type": "code",
   "execution_count": null,
   "metadata": {},
   "outputs": [],
   "source": [
    "print(\"=== DATA ANALYSIS AGENT DEVELOPMENT ===\")\n",
    "results = graph.execute(\"Develop an AI agent that can analyze CSV files, generate insights, and create visualizations\")\n",
    "print(\"\\n=== WORKFLOW COMPLETED ===\")"
   ]
  },
  {
   "cell_type": "code",
   "execution_count": null,
   "metadata": {},
   "outputs": [],
   "source": [
    "print(\"=== CODE REVIEW AGENT DEVELOPMENT ===\")\n",
    "results = graph.execute(\"Build an AI agent that can review code for security vulnerabilities, performance issues, and best practices\")\n",
    "print(\"\\n=== WORKFLOW COMPLETED ===\")"
   ]
  }
 ],
 "metadata": {
  "kernelspec": {
   "display_name": "ai-lab",
   "language": "python",
   "name": "python3"
  },
  "language_info": {
   "codemirror_mode": {
    "name": "ipython",
    "version": 3
   },
   "file_extension": ".py",
   "mimetype": "text/x-python",
   "name": "python",
   "nbconvert_exporter": "python",
   "pygments_lexer": "ipython3",
   "version": "3.13.7"
  }
 },
 "nbformat": 4,
 "nbformat_minor": 4
}