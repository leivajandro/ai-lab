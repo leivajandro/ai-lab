{
 "cells": [
  {
   "cell_type": "markdown",
   "metadata": {},
   "source": [
    "# A2A Client\n",
    "\n",
    "Example of creating an Agent-to-Agent client to communicate with A2A servers"
   ]
  },
  {
   "cell_type": "markdown",
   "metadata": {},
   "source": [
    "## Configuration"
   ]
  },
  {
   "cell_type": "code",
   "execution_count": null,
   "metadata": {},
   "outputs": [],
   "source": [
    "import logging\n",
    "from uuid import uuid4\n",
    "\n",
    "import httpx\n",
    "from a2a.client import A2ACardResolver, ClientConfig, ClientFactory\n",
    "from a2a.types import Message, Part, Role, TextPart\n",
    "\n",
    "logging.basicConfig(level=logging.INFO)\n",
    "logger = logging.getLogger(__name__)\n",
    "\n",
    "DEFAULT_TIMEOUT = 300\n",
    "BASE_URL = \"http://127.0.0.1:9000\""
   ]
  },
  {
   "cell_type": "markdown",
   "metadata": {},
   "source": [
    "## Helper Functions"
   ]
  },
  {
   "cell_type": "code",
   "execution_count": null,
   "metadata": {},
   "outputs": [],
   "source": [
    "def create_message(*, role: Role = Role.user, text: str) -> Message:\n",
    "    return Message(\n",
    "        kind=\"message\",\n",
    "        role=role,\n",
    "        parts=[Part(TextPart(kind=\"text\", text=text))],\n",
    "        message_id=uuid4().hex,\n",
    "    )"
   ]
  },
  {
   "cell_type": "markdown",
   "metadata": {},
   "source": [
    "## Send Sync Message"
   ]
  },
  {
   "cell_type": "code",
   "execution_count": null,
   "metadata": {},
   "outputs": [],
   "source": [
    "async def send_sync_message(message: str, base_url: str = BASE_URL):\n",
    "    async with httpx.AsyncClient(timeout=DEFAULT_TIMEOUT) as httpx_client:\n",
    "        resolver = A2ACardResolver(httpx_client=httpx_client, base_url=base_url)\n",
    "        agent_card = await resolver.get_agent_card()\n",
    "\n",
    "        config = ClientConfig(\n",
    "            httpx_client=httpx_client,\n",
    "            streaming=False,\n",
    "        )\n",
    "        factory = ClientFactory(config)\n",
    "        client = factory.create(agent_card)\n",
    "\n",
    "        msg = create_message(text=message)\n",
    "\n",
    "        async for event in client.send_message(msg):\n",
    "            if isinstance(event, Message):\n",
    "                logger.info(event.model_dump_json(exclude_none=True, indent=2))\n",
    "                return event\n",
    "            elif isinstance(event, tuple) and len(event) == 2:\n",
    "                task, update_event = event\n",
    "                logger.info(f\"Task: {task.model_dump_json(exclude_none=True, indent=2)}\")\n",
    "                if update_event:\n",
    "                    logger.info(f\"Update: {update_event.model_dump_json(exclude_none=True, indent=2)}\")\n",
    "                return task\n",
    "            else:\n",
    "                logger.info(f\"Response: {str(event)}\")\n",
    "                return event"
   ]
  },
  {
   "cell_type": "markdown",
   "metadata": {},
   "source": [
    "## Test Client"
   ]
  },
  {
   "cell_type": "code",
   "execution_count": null,
   "metadata": {},
   "outputs": [],
   "source": [
    "await send_sync_message(\"what is 101 * 11\")"
   ]
  }
 ],
 "metadata": {
  "kernelspec": {
   "display_name": "ai-lab",
   "language": "python",
   "name": "python3"
  },
  "language_info": {
   "codemirror_mode": {
    "name": "ipython",
    "version": 3
   },
   "file_extension": ".py",
   "mimetype": "text/x-python",
   "name": "python",
   "nbconvert_exporter": "python",
   "pygments_lexer": "ipython3",
   "version": "3.13.7"
  }
 },
 "nbformat": 4,
 "nbformat_minor": 4
}
