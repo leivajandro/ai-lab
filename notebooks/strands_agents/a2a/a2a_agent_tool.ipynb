{
 "cells": [
  {
   "cell_type": "markdown",
   "metadata": {},
   "source": [
    "# A2A Agent as Tool\n",
    "\n",
    "A2A agents can be wrapped as tools within your agent's toolkit, similar to the Agents as Tools pattern but leveraging the A2A protocol for cross-platform communication."
   ]
  },
  {
   "cell_type": "code",
   "execution_count": null,
   "metadata": {},
   "outputs": [],
   "source": [
    "from uuid import uuid4\n",
    "import httpx\n",
    "from a2a.client import A2ACardResolver, ClientConfig, ClientFactory\n",
    "from a2a.types import Message, Part, Role, TextPart\n",
    "from strands import Agent, tool\n",
    "from strands.models.openai import OpenAIModel"
   ]
  },
  {
   "cell_type": "markdown",
   "metadata": {},
   "source": [
    "## A2A Agent Tool Class\n",
    "\n",
    "Class-based approach to discover agent cards upfront and avoid repeated discovery calls."
   ]
  },
  {
   "cell_type": "code",
   "execution_count": null,
   "metadata": {},
   "outputs": [],
   "source": [
    "class A2AAgentTool:\n",
    "    def __init__(self, agent_url: str, agent_name: str):\n",
    "        self.agent_url = agent_url\n",
    "        self.agent_name = agent_name\n",
    "        self.agent_card = None\n",
    "        self.client = None\n",
    "        self.httpx_client = None\n",
    "\n",
    "    async def initialize(self):\n",
    "        self.httpx_client = httpx.AsyncClient(timeout=300)\n",
    "        resolver = A2ACardResolver(httpx_client=self.httpx_client, base_url=self.agent_url)\n",
    "        self.agent_card = await resolver.get_agent_card()\n",
    "\n",
    "        config = ClientConfig(httpx_client=self.httpx_client, streaming=False)\n",
    "        factory = ClientFactory(config)\n",
    "        self.client = factory.create(self.agent_card)\n",
    "\n",
    "    @tool\n",
    "    async def call_agent(self, message: str) -> str:\n",
    "        \"\"\"\n",
    "        Send a message to the A2A agent.\n",
    "\n",
    "        Args:\n",
    "            message: The message to send to the agent\n",
    "\n",
    "        Returns:\n",
    "            Response from the A2A agent\n",
    "        \"\"\"\n",
    "        try:            \n",
    "            msg = Message(\n",
    "                kind=\"message\",\n",
    "                role=Role.user,\n",
    "                parts=[Part(TextPart(kind=\"text\", text=message))],\n",
    "                message_id=uuid4().hex,\n",
    "            )\n",
    "\n",
    "            async for event in self.client.send_message(msg):\n",
    "                if isinstance(event, tuple) and len(event) > 0:\n",
    "                    task = event[0]\n",
    "                    if hasattr(task, 'artifacts') and task.artifacts:\n",
    "                        for artifact in task.artifacts:\n",
    "                            if hasattr(artifact, 'parts') and artifact.parts:\n",
    "                                response_text = \"\"\n",
    "                                for part in artifact.parts:\n",
    "                                    if hasattr(part, 'root') and hasattr(part.root, 'text'):\n",
    "                                        response_text += part.root.text\n",
    "                                if response_text:\n",
    "                                    return response_text\n",
    "\n",
    "            return f\"No response received from {self.agent_name}\"\n",
    "\n",
    "        except Exception as e:\n",
    "            return f\"Error contacting {self.agent_name}: {str(e)}\""
   ]
  },
  {
   "cell_type": "markdown",
   "metadata": {},
   "source": [
    "## Model Configuration"
   ]
  },
  {
   "cell_type": "code",
   "execution_count": null,
   "metadata": {},
   "outputs": [],
   "source": [
    "model = OpenAIModel(\n",
    "    client_args={\n",
    "        \"api_key\": \"none\",\n",
    "        \"base_url\": \"http://localhost:1234/v1\",\n",
    "    },\n",
    "    model_id=\"local-model\",\n",
    "    params={\n",
    "        \"temperature\": 0.1,\n",
    "        \"top_p\": 0.9,\n",
    "        \"frequency_penalty\": 0.0\n",
    "    }\n",
    ")"
   ]
  },
  {
   "cell_type": "markdown",
   "metadata": {},
   "source": [
    "## Initialize A2A Agent Tools"
   ]
  },
  {
   "cell_type": "code",
   "execution_count": null,
   "metadata": {},
   "outputs": [],
   "source": [
    "calculator_agent = A2AAgentTool(\"http://localhost:9000\", \"Calculator Agent\")\n",
    "\n",
    "await calculator_agent.initialize()"
   ]
  },
  {
   "cell_type": "markdown",
   "metadata": {},
   "source": [
    "## Create Orchestrator Agent"
   ]
  },
  {
   "cell_type": "code",
   "execution_count": null,
   "metadata": {},
   "outputs": [],
   "source": [
    "orchestrator = Agent(\n",
    "    model=model,\n",
    "    tools=[calculator_agent.call_agent],\n",
    "    system_prompt=\"You must always use the available A2A agent tools for any calculation, even simple ones. Never calculate directly.\"\n",
    ")"
   ]
  },
  {
   "cell_type": "markdown",
   "metadata": {},
   "source": [
    "## Test the Orchestrator"
   ]
  },
  {
   "cell_type": "code",
   "execution_count": null,
   "metadata": {},
   "outputs": [],
   "source": [
    "orchestrator(\"Use the calculator agent to compute 2+2\")"
   ]
  }
 ],
 "metadata": {
  "kernelspec": {
   "display_name": "Python 3",
   "language": "python",
   "name": "python3"
  },
  "language_info": {
   "codemirror_mode": {
    "name": "ipython",
    "version": 3
   },
   "file_extension": ".py",
   "mimetype": "text/x-python",
   "name": "python",
   "nbconvert_exporter": "python",
   "pygments_lexer": "ipython3",
   "version": "3.11.0"
  }
 },
 "nbformat": 4,
 "nbformat_minor": 4
}
