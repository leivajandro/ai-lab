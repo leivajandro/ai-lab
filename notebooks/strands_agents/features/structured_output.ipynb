{
    "cells": [
        {
            "cell_type": "markdown",
            "metadata": {},
            "source": [
                "# Structured Output\n",
                "\n",
                "Extract structured data using Pydantic models with Strands agents"
            ]
        },
        {
            "cell_type": "markdown",
            "metadata": {},
            "source": [
                "## Imports"
            ]
        },
        {
            "cell_type": "code",
            "execution_count": null,
            "metadata": {},
            "outputs": [],
            "source": [
                "from pydantic import BaseModel\n",
                "from strands import Agent\n",
                "from strands.models.openai import OpenAIModel"
            ]
        },
        {
            "cell_type": "markdown",
            "metadata": {},
            "source": [
                "## Setup Local LLM Client"
            ]
        },
        {
            "cell_type": "code",
            "execution_count": null,
            "metadata": {},
            "outputs": [],
            "source": [
                "model = OpenAIModel(\n",
                "    client_args={\n",
                "        \"api_key\": \"none\",\n",
                "        \"base_url\": \"http://localhost:1234/v1\",\n",
                "    },\n",
                "    model_id=\"local-model\",\n",
                "    params={\n",
                "        \"temperature\": 0.1,\n",
                "        \"top_p\": 0.9,\n",
                "        \"frequency_penalty\": 0.0,\n",
                "    }\n",
                ")"
            ]
        },
        {
            "cell_type": "markdown",
            "metadata": {},
            "source": [
                "## Define Pydantic Model"
            ]
        },
        {
            "cell_type": "code",
            "execution_count": null,
            "metadata": {},
            "outputs": [],
            "source": [
                "class PersonInfo(BaseModel):\n",
                "    name: str\n",
                "    age: int\n",
                "    occupation: str"
            ]
        },
        {
            "cell_type": "markdown",
            "metadata": {},
            "source": [
                "## Create Agent"
            ]
        },
        {
            "cell_type": "code",
            "execution_count": null,
            "metadata": {},
            "outputs": [],
            "source": [
                "agent = Agent(\n",
                "    model=model,\n",
                "    system_prompt=\"You are a helpful assistant that extracts structured data.\"\n",
                ")"
            ]
        },
        {
            "cell_type": "markdown",
            "metadata": {},
            "source": [
                "## Run Agent"
            ]
        },
        {
            "cell_type": "code",
            "execution_count": null,
            "metadata": {},
            "outputs": [],
            "source": [
                "result = agent.structured_output(\n",
                "    PersonInfo,\n",
                "    \"John Smith is a 30-year-old software engineer\"\n",
                ")\n",
                "\n",
                "print(f\"Name: {result.name}\")\n",
                "print(f\"Age: {result.age}\")\n",
                "print(f\"Job: {result.occupation}\")"
            ]
        }
    ],
    "metadata": {
        "kernelspec": {
            "display_name": "ai-lab",
            "language": "python",
            "name": "python3"
        },
        "language_info": {
            "codemirror_mode": {
                "name": "ipython",
                "version": 3
            },
            "file_extension": ".py",
            "mimetype": "text/x-python",
            "name": "python",
            "nbconvert_exporter": "python",
            "pygments_lexer": "ipython3",
            "version": "3.13.7"
        }
    },
    "nbformat": 4,
    "nbformat_minor": 4
}