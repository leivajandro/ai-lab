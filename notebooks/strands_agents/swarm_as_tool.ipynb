{
 "cells": [
  {
   "cell_type": "markdown",
   "metadata": {},
   "source": [
    "# Swarm as a Tool with Strands Agents\n",
    "\n",
    "This notebook demonstrates the \"Swarm as a Tool\" pattern where an agent dynamically creates and orchestrates swarms using the swarm tool.\n",
    "\n",
    "## Pattern Overview\n",
    "- **Agent with Swarm Tool**: Uses swarm tool to create specialized teams\n",
    "- **Dynamic Creation**: Swarms are created on-demand for specific tasks\n",
    "- **Autonomous Collaboration**: Swarm agents work together independently\n",
    "- **Result Analysis**: Main agent processes swarm results"
   ]
  },
  {
   "cell_type": "code",
   "execution_count": null,
   "metadata": {},
   "outputs": [],
   "source": [
    "from strands import Agent\n",
    "from strands_tools import swarm\n",
    "from strands.models.openai import OpenAIModel"
   ]
  },
  {
   "cell_type": "markdown",
   "metadata": {},
   "source": [
    "## Model Configuration"
   ]
  },
  {
   "cell_type": "code",
   "execution_count": null,
   "metadata": {},
   "outputs": [],
   "source": [
    "model = OpenAIModel(\n",
    "    client_args={\n",
    "        \"api_key\": \"none\",\n",
    "        \"base_url\": \"http://localhost:1234/v1\",\n",
    "    },\n",
    "    model_id=\"local-model\",\n",
    "    params={\n",
    "        \"temperature\": 0.1,\n",
    "        \"top_p\": 0.9,\n",
    "        \"frequency_penalty\": 0.0\n",
    "    }\n",
    ")"
   ]
  },
  {
   "cell_type": "markdown",
   "metadata": {},
   "source": [
    "## Agent with Swarm Tool"
   ]
  },
  {
   "cell_type": "code",
   "execution_count": null,
   "metadata": {},
   "outputs": [],
   "source": [
    "agent = Agent(\n",
    "    model=model,\n",
    "    tools=[swarm],\n",
    "    system_prompt=\"Create a swarm of agents to solve the user's query. Analyze complex tasks and determine what specialists are needed, then orchestrate their collaboration.\"\n",
    ")"
   ]
  },
  {
   "cell_type": "markdown",
   "metadata": {},
   "source": [
    "## Test Cases"
   ]
  },
  {
   "cell_type": "code",
   "execution_count": null,
   "metadata": {},
   "outputs": [],
   "source": [
    "print(\"=== AWS LLM IMPLEMENTATION FOR INSURANCE ===\")\n",
    "response = agent(\"Design and implement an AWS-based LLM system for automated insurance claim processing using Amazon Bedrock, SageMaker, and Lambda with proper architecture and deployment strategy\")\n",
    "print(response)\n",
    "print()"
   ]
  },
  {
   "cell_type": "code",
   "execution_count": null,
   "metadata": {},
   "outputs": [],
   "source": [
    "print(\"=== AWS AI AGENT DEVELOPMENT FOR INSURANCE ===\")\n",
    "response = agent(\"Design and develop an AWS-based multi-agent system for insurance operations using Amazon Bedrock agents, Step Functions for orchestration, and EventBridge for communication between customer service, underwriting, and claims processing agents\")\n",
    "print(response)\n",
    "print()"
   ]
  },
  {
   "cell_type": "code",
   "execution_count": null,
   "metadata": {},
   "outputs": [],
   "source": [
    "print(\"=== AI IMPACT ON INSURANCE SECTOR ===\")\n",
    "response = agent(\"Analyze the comprehensive impact of AI on the insurance industry, including operational transformation, customer experience, regulatory challenges, and competitive advantages\")\n",
    "print(response)"
   ]
  }
 ],
 "metadata": {
  "kernelspec": {
   "display_name": "ai-lab",
   "language": "python",
   "name": "python3"
  },
  "language_info": {
   "codemirror_mode": {
    "name": "ipython",
    "version": 3
   },
   "file_extension": ".py",
   "mimetype": "text/x-python",
   "name": "python",
   "nbconvert_exporter": "python",
   "pygments_lexer": "ipython3",
   "version": "3.13.7"
  }
 },
 "nbformat": 4,
 "nbformat_minor": 4
}
