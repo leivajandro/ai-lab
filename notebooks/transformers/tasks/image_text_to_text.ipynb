{
    "cells": [
        {
            "cell_type": "markdown",
            "metadata": {},
            "source": [
                "# Image Text to Text\n",
                "\n",
                "Simple image text to text generation using transformers"
            ]
        },
        {
            "cell_type": "markdown",
            "metadata": {},
            "source": [
                "## Imports"
            ]
        },
        {
            "cell_type": "code",
            "execution_count": 1,
            "metadata": {},
            "outputs": [],
            "source": [
                "from transformers import AutoProcessor, AutoModelForImageTextToText\n",
                "from transformers.image_utils import load_image"
            ]
        },
        {
            "cell_type": "markdown",
            "metadata": {},
            "source": [
                "## Load Vision Model"
            ]
        },
        {
            "cell_type": "code",
            "execution_count": null,
            "metadata": {},
            "outputs": [],
            "source": [
                "model_id = \"\"\n",
                "model = AutoModelForImageTextToText.from_pretrained(\n",
                "    model_id,\n",
                "    device_map=\"auto\",\n",
                "    dtype=\"bfloat16\",\n",
                "    trust_remote_code=True\n",
                ")\n",
                "processor = AutoProcessor.from_pretrained(model_id, trust_remote_code=True)"
            ]
        },
        {
            "cell_type": "markdown",
            "metadata": {},
            "source": [
                "## Image Text Generation"
            ]
        },
        {
            "cell_type": "code",
            "execution_count": 3,
            "metadata": {},
            "outputs": [
                {
                    "name": "stderr",
                    "output_type": "stream",
                    "text": [
                        "Setting `pad_token_id` to `eos_token_id`:151645 for open-end generation.\n"
                    ]
                },
                {
                    "name": "stdout",
                    "output_type": "stream",
                    "text": [
                        "user\n",
                        "\n",
                        "What is in this image?\n",
                        "assistant\n",
                        "This image shows a street scene with a stop sign, a traditional Chinese archway, and several storefronts. There are also people walking and a black SUV driving on the street. The archway has Chinese characters and decorative elements, indicating a location that might be in a Chinese-speaking region.\n"
                    ]
                }
            ],
            "source": [
                "url = \"https://www.ilankelman.org/stopsigns/australia.jpg\"\n",
                "image = load_image(url)\n",
                "conversation = [\n",
                "    {\n",
                "        \"role\": \"user\",\n",
                "        \"content\": [\n",
                "            {\"type\": \"image\", \"image\": image},\n",
                "            {\"type\": \"text\", \"text\": \"What is in this image?\"},\n",
                "        ],\n",
                "    },\n",
                "]\n",
                "\n",
                "inputs = processor.apply_chat_template(\n",
                "    conversation,\n",
                "    add_generation_prompt=True,\n",
                "    return_tensors=\"pt\",\n",
                "    return_dict=True,\n",
                "    tokenize=True,\n",
                ").to(model.device)\n",
                "outputs = model.generate(**inputs, max_new_tokens=64)\n",
                "print(processor.batch_decode(outputs, skip_special_tokens=True)[0])"
            ]
        }
    ],
    "metadata": {
        "kernelspec": {
            "display_name": "ai-lab",
            "language": "python",
            "name": "python3"
        },
        "language_info": {
            "codemirror_mode": {
                "name": "ipython",
                "version": 3
            },
            "file_extension": ".py",
            "mimetype": "text/x-python",
            "name": "python",
            "nbconvert_exporter": "python",
            "pygments_lexer": "ipython3",
            "version": "3.13.7"
        }
    },
    "nbformat": 4,
    "nbformat_minor": 4
}