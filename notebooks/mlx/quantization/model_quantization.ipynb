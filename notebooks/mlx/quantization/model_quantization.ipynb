{
 "cells": [
  {
   "cell_type": "markdown",
   "metadata": {},
   "source": [
    "# Model Quantization\n",
    "\n",
    "Convert and quantize Hugging Face models to MLX format"
   ]
  },
  {
   "cell_type": "markdown",
   "metadata": {},
   "source": [
    "## Configuration"
   ]
  },
  {
   "cell_type": "code",
   "execution_count": 23,
   "metadata": {},
   "outputs": [],
   "source": [
    "MODEL_NAME = \"Qwen/Qwen3-0.6B\"\n",
    "OUTPUT_NAME = \"Qwen/Qwen3-0.6B\"\n",
    "OUTPUT_PATH = f\"../../../models/{OUTPUT_NAME}\"\n",
    "\n",
    "Q_BITS = 4\n",
    "Q_GROUP_SIZE = 64"
   ]
  },
  {
   "cell_type": "markdown",
   "metadata": {},
   "source": [
    "## Convert to 4-bit and Save to Models Folder"
   ]
  },
  {
   "cell_type": "code",
   "execution_count": 24,
   "metadata": {},
   "outputs": [
    {
     "name": "stderr",
     "output_type": "stream",
     "text": [
      "huggingface/tokenizers: The current process just got forked, after parallelism has already been used. Disabling parallelism to avoid deadlocks...\n",
      "To disable this warning, you can either:\n",
      "\t- Avoid using `tokenizers` before the fork if possible\n",
      "\t- Explicitly set the environment variable TOKENIZERS_PARALLELISM=(true | false)\n"
     ]
    },
    {
     "name": "stdout",
     "output_type": "stream",
     "text": [
      "Traceback (most recent call last):\n",
      "  File \u001b[35m\"/Users/alejandro/Developer/personal/src/ai-lab/.venv/bin/mlx_lm.convert\"\u001b[0m, line \u001b[35m7\u001b[0m, in \u001b[35m<module>\u001b[0m\n",
      "    sys.exit(\u001b[31mmain\u001b[0m\u001b[1;31m()\u001b[0m)\n",
      "             \u001b[31m~~~~\u001b[0m\u001b[1;31m^^\u001b[0m\n",
      "  File \u001b[35m\"/Users/alejandro/Developer/personal/src/ai-lab/.venv/lib/python3.13/site-packages/mlx_lm/convert.py\"\u001b[0m, line \u001b[35m238\u001b[0m, in \u001b[35mmain\u001b[0m\n",
      "    \u001b[31mconvert\u001b[0m\u001b[1;31m(**vars(args))\u001b[0m\n",
      "    \u001b[31m~~~~~~~\u001b[0m\u001b[1;31m^^^^^^^^^^^^^^\u001b[0m\n",
      "  File \u001b[35m\"/Users/alejandro/Developer/personal/src/ai-lab/.venv/lib/python3.13/site-packages/mlx_lm/convert.py\"\u001b[0m, line \u001b[35m104\u001b[0m, in \u001b[35mconvert\u001b[0m\n",
      "    raise ValueError(\n",
      "    ...<2 lines>...\n",
      "    )\n",
      "\u001b[1;35mValueError\u001b[0m: \u001b[35mCannot save to the path ../../../models/Qwen/Qwen3-0.6B as it already exists. Please delete the file/directory or specify a new path to save to.\u001b[0m\n"
     ]
    }
   ],
   "source": [
    "!mlx_lm.convert --hf-path {MODEL_NAME} --mlx-path {OUTPUT_PATH} --quantize --q-bits {Q_BITS} --q-group-size {Q_GROUP_SIZE}"
   ]
  },
  {
   "cell_type": "markdown",
   "metadata": {},
   "source": [
    "## Test Converted Model"
   ]
  },
  {
   "cell_type": "code",
   "execution_count": 25,
   "metadata": {},
   "outputs": [
    {
     "name": "stdout",
     "output_type": "stream",
     "text": [
      "I'm a little bit nervous about the upcoming exam. I need to get some knowledge about the exam. What should I do? What should I do now? What should I do next? What should I do now? What should I do now?\n"
     ]
    }
   ],
   "source": [
    "from mlx_lm import load, generate\n",
    "\n",
    "model, tokenizer = load(OUTPUT_PATH)\n",
    "response = generate(model, tokenizer, \"Hello, how are you?\", max_tokens=50)\n",
    "print(response)"
   ]
  }
 ],
 "metadata": {
  "kernelspec": {
   "display_name": ".venv",
   "language": "python",
   "name": "python3"
  },
  "language_info": {
   "codemirror_mode": {
    "name": "ipython",
    "version": 3
   },
   "file_extension": ".py",
   "mimetype": "text/x-python",
   "name": "python",
   "nbconvert_exporter": "python",
   "pygments_lexer": "ipython3",
   "version": "3.13.7"
  }
 },
 "nbformat": 4,
 "nbformat_minor": 4
}
