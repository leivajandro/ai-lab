{
 "cells": [
  {
   "cell_type": "markdown",
   "metadata": {},
   "source": [
    "# Model Conversion\n",
    "\n",
    "Convert Hugging Face models to MLX format with optional quantization"
   ]
  },
  {
   "cell_type": "markdown",
   "metadata": {},
   "source": [
    "## Configuration"
   ]
  },
  {
   "cell_type": "code",
   "execution_count": null,
   "metadata": {},
   "outputs": [],
   "source": [
    "import os\n",
    "\n",
    "model_id = \"\"\n",
    "MODEL_NAME = model_id\n",
    "OUTPUT_NAME = f\"{model_id}-mlx-4bit\"\n",
    "OUTPUT_PATH_RELATIVE = f\"../../../models/{OUTPUT_NAME}\"\n",
    "OUTPUT_PATH_ABS = os.path.abspath(OUTPUT_PATH_RELATIVE)\n",
    "\n",
    "Q_BITS = 4\n",
    "Q_GROUP_SIZE = 64"
   ]
  },
  {
   "cell_type": "markdown",
   "metadata": {},
   "source": [
    "## Convert to 4-bit and Save to Models Folder"
   ]
  },
  {
   "cell_type": "code",
   "execution_count": null,
   "metadata": {},
   "outputs": [],
   "source": [
    "!mlx_lm.convert --hf-path {MODEL_NAME} --mlx-path {OUTPUT_PATH_ABS} --quantize --q-bits {Q_BITS} --q-group-size {Q_GROUP_SIZE}"
   ]
  },
  {
   "cell_type": "markdown",
   "metadata": {},
   "source": [
    "## Test Converted Model"
   ]
  },
  {
   "cell_type": "code",
   "execution_count": null,
   "metadata": {},
   "outputs": [],
   "source": [
    "from mlx_lm import load, generate\n",
    "\n",
    "model, tokenizer = load(OUTPUT_PATH_ABS)\n",
    "response = generate(model, tokenizer, \"Hello, how are you?\", max_tokens=50)\n",
    "print(response)"
   ]
  }
 ],
 "metadata": {
  "kernelspec": {
   "display_name": ".venv",
   "language": "python",
   "name": "python3"
  },
  "language_info": {
   "codemirror_mode": {
    "name": "ipython",
    "version": 3
   },
   "file_extension": ".py",
   "mimetype": "text/x-python",
   "name": "python",
   "nbconvert_exporter": "python",
   "pygments_lexer": "ipython3",
   "version": "3.13.7"
  }
 },
 "nbformat": 4,
 "nbformat_minor": 4
}
